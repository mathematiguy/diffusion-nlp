{
 "cells": [
  {
   "cell_type": "markdown",
   "id": "2def967b-e89e-4652-bab7-35ec28295f58",
   "metadata": {},
   "source": [
    "# E2E Dataset\n",
    "\n",
    "In this notebook we quickly download and load the E2E dataset using huggingface's `datasets` library, and then take a quick look at it."
   ]
  },
  {
   "cell_type": "code",
   "execution_count": 2,
   "id": "f35ad26d-5270-4ef3-ae31-5be8065a5f1e",
   "metadata": {},
   "outputs": [
    {
     "name": "stderr",
     "output_type": "stream",
     "text": [
      "Found cached dataset e2e_nlg (/home/kakapo/.cache/huggingface/datasets/e2e_nlg/default/0.0.0/bfeceb720929c2705bd227d1cfe5eaaab102a0bdac10dad618dac1e00c737430)\n"
     ]
    },
    {
     "data": {
      "application/vnd.jupyter.widget-view+json": {
       "model_id": "132c68ef0cdf4e04ad3a89f0fc385b48",
       "version_major": 2,
       "version_minor": 0
      },
      "text/plain": [
       "  0%|          | 0/3 [00:00<?, ?it/s]"
      ]
     },
     "metadata": {},
     "output_type": "display_data"
    }
   ],
   "source": [
    "from datasets import load_dataset\n",
    "\n",
    "e2e_dataset = load_dataset(\"e2e_nlg\")"
   ]
  },
  {
   "cell_type": "code",
   "execution_count": 5,
   "id": "54e9e289-3138-4481-8752-5fb0e84df479",
   "metadata": {},
   "outputs": [
    {
     "data": {
      "text/plain": [
       "DatasetDict({\n",
       "    train: Dataset({\n",
       "        features: ['meaning_representation', 'human_reference'],\n",
       "        num_rows: 42061\n",
       "    })\n",
       "    validation: Dataset({\n",
       "        features: ['meaning_representation', 'human_reference'],\n",
       "        num_rows: 4672\n",
       "    })\n",
       "    test: Dataset({\n",
       "        features: ['meaning_representation', 'human_reference'],\n",
       "        num_rows: 4693\n",
       "    })\n",
       "})"
      ]
     },
     "execution_count": 5,
     "metadata": {},
     "output_type": "execute_result"
    }
   ],
   "source": [
    "e2e_dataset"
   ]
  },
  {
   "cell_type": "code",
   "execution_count": 3,
   "id": "f92b59bc-268b-4b90-83e1-bf8bd78d3f4b",
   "metadata": {},
   "outputs": [
    {
     "data": {
      "text/plain": [
       "{'meaning_representation': 'name[The Vaults], eatType[pub], priceRange[more than £30], customer rating[5 out of 5], near[Café Adriatic]',\n",
       " 'human_reference': 'The Vaults pub near Café Adriatic has a 5 star rating.  Prices start at £30.'}"
      ]
     },
     "execution_count": 3,
     "metadata": {},
     "output_type": "execute_result"
    }
   ],
   "source": [
    "e2e_dataset['train'][0]"
   ]
  },
  {
   "cell_type": "code",
   "execution_count": 4,
   "id": "18816ed4-61ae-4318-a95f-802192b41c15",
   "metadata": {},
   "outputs": [
    {
     "data": {
      "text/plain": [
       "{'meaning_representation': 'name[The Cambridge Blue], eatType[pub], food[English], priceRange[cheap], near[Café Brazil]',\n",
       " 'human_reference': 'Close to Café Brazil, The Cambridge Blue pub serves delicious Tuscan Beef for the cheap price of £10.50. Delicious Pub food.'}"
      ]
     },
     "execution_count": 4,
     "metadata": {},
     "output_type": "execute_result"
    }
   ],
   "source": [
    "e2e_dataset['train'][1]"
   ]
  }
 ],
 "metadata": {
  "kernelspec": {
   "display_name": "Python 3",
   "language": "python",
   "name": "python3"
  },
  "language_info": {
   "codemirror_mode": {
    "name": "ipython",
    "version": 3
   },
   "file_extension": ".py",
   "mimetype": "text/x-python",
   "name": "python",
   "nbconvert_exporter": "python",
   "pygments_lexer": "ipython3",
   "version": "3.9.5"
  }
 },
 "nbformat": 4,
 "nbformat_minor": 5
}
