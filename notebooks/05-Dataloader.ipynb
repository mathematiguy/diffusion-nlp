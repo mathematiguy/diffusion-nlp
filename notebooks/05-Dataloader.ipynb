{
 "cells": [
  {
   "cell_type": "markdown",
   "id": "2cdfac34-a19d-40a8-a96c-c58528f47ea3",
   "metadata": {},
   "source": [
    "# Building a diffusion enabled dataloader"
   ]
  },
  {
   "cell_type": "code",
   "execution_count": null,
   "id": "69a23ade-f8bc-46df-b489-23064b51bb95",
   "metadata": {},
   "outputs": [],
   "source": []
  }
 ],
 "metadata": {
  "kernelspec": {
   "display_name": "Python 3",
   "language": "python",
   "name": "python3"
  },
  "language_info": {
   "codemirror_mode": {
    "name": "ipython",
    "version": 3
   },
   "file_extension": ".py",
   "mimetype": "text/x-python",
   "name": "python",
   "nbconvert_exporter": "python",
   "pygments_lexer": "ipython3",
   "version": "3.9.5"
  }
 },
 "nbformat": 4,
 "nbformat_minor": 5
}
