{
 "cells": [
  {
   "cell_type": "markdown",
   "id": "92844351-47cc-4e3a-9b27-df10fdbee45b",
   "metadata": {},
   "source": [
    "# Diffusion forward process\n",
    "\n",
    "In this notebook we define the forward process for diffusion using our predefined transformer model."
   ]
  },
  {
   "cell_type": "code",
   "execution_count": 41,
   "id": "3136b410-9c70-4d39-b6f4-07056aa9d8ad",
   "metadata": {},
   "outputs": [],
   "source": [
    "import torch\n",
    "import numpy as np\n",
    "import matplotlib.pyplot as plt\n",
    "from transformers import BertTokenizer, BertModel"
   ]
  },
  {
   "cell_type": "code",
   "execution_count": 2,
   "id": "bf4e1ab8-024f-4de4-af27-85c98ec2e9bf",
   "metadata": {},
   "outputs": [
    {
     "name": "stderr",
     "output_type": "stream",
     "text": [
      "Some weights of the model checkpoint at bert-base-uncased were not used when initializing BertModel: ['cls.seq_relationship.weight', 'cls.predictions.transform.dense.weight', 'cls.predictions.transform.LayerNorm.bias', 'cls.predictions.bias', 'cls.predictions.transform.LayerNorm.weight', 'cls.seq_relationship.bias', 'cls.predictions.decoder.weight', 'cls.predictions.transform.dense.bias']\n",
      "- This IS expected if you are initializing BertModel from the checkpoint of a model trained on another task or with another architecture (e.g. initializing a BertForSequenceClassification model from a BertForPreTraining model).\n",
      "- This IS NOT expected if you are initializing BertModel from the checkpoint of a model that you expect to be exactly identical (initializing a BertForSequenceClassification model from a BertForSequenceClassification model).\n"
     ]
    }
   ],
   "source": [
    "# Load a default model\n",
    "tokenizer = BertTokenizer.from_pretrained(\"bert-base-uncased\")\n",
    "model = BertModel.from_pretrained(\"bert-base-uncased\")"
   ]
  },
  {
   "cell_type": "markdown",
   "id": "c3ddc47c-d159-436d-b056-bb7668980ef4",
   "metadata": {},
   "source": [
    "### Embedding matrix"
   ]
  },
  {
   "cell_type": "markdown",
   "id": "f1c46e80-608c-485e-a60b-3151da472b95",
   "metadata": {},
   "source": [
    "From the paper:\n",
    "\n",
    "> We define the embedding of a sequence $w$ of length $n$ to be:\n",
    "> $$\\textrm{EMB}(w) = [\\textrm{EMB}(w_1), ..., \\textrm{EMB}(w_n)] \\in \\mathbb{R}^{nd}$$\n",
    "\n",
    "So we calculate the embeddings for each token, and stack those to form the embedding matrix $w$."
   ]
  },
  {
   "cell_type": "code",
   "execution_count": 6,
   "id": "8a2e7c09-2993-44a9-86a4-b39a398078c9",
   "metadata": {},
   "outputs": [],
   "source": [
    "example_text = \"In a hole in the ground there lived a hobbit\"\n",
    "encoded_input = tokenizer(example_text, return_tensors=\"pt\")[\"input_ids\"]\n",
    "output = model(encoded_input)\n",
    "embeddings = output[\"last_hidden_state\"]"
   ]
  },
  {
   "cell_type": "code",
   "execution_count": 14,
   "id": "7ed9bfb4-5ef8-4299-8185-dea56c29889a",
   "metadata": {},
   "outputs": [
    {
     "data": {
      "text/plain": [
       "'[CLS] in a hole in the ground there lived a ho ##bb ##it [SEP]'"
      ]
     },
     "execution_count": 14,
     "metadata": {},
     "output_type": "execute_result"
    }
   ],
   "source": [
    "# Show individual tokens\n",
    "\" \".join(tokenizer.convert_ids_to_tokens(encoded_input[0]))"
   ]
  },
  {
   "cell_type": "code",
   "execution_count": 18,
   "id": "e006054c-35af-484e-acd3-6144e94453eb",
   "metadata": {},
   "outputs": [
    {
     "name": "stdout",
     "output_type": "stream",
     "text": [
      "torch.Size([1, 14, 768])\n"
     ]
    },
    {
     "data": {
      "text/plain": [
       "tensor([[[-0.1430,  0.2258, -0.2769,  ..., -0.2089,  0.2554,  0.3328],\n",
       "         [-0.3623,  0.3898, -0.5615,  ..., -0.3843,  0.2713,  0.2537],\n",
       "         [-0.1815,  0.0819, -0.1862,  ..., -0.3564,  0.1374,  0.5064],\n",
       "         ...,\n",
       "         [-0.4391, -0.2379,  0.2243,  ...,  0.5124, -0.2932,  0.3388],\n",
       "         [-0.2497, -0.5978, -0.6163,  ...,  0.2687, -0.0632,  0.5896],\n",
       "         [ 0.7250,  0.2462, -0.4129,  ..., -0.0941, -0.5447, -0.3513]]],\n",
       "       grad_fn=<NativeLayerNormBackward0>)"
      ]
     },
     "execution_count": 18,
     "metadata": {},
     "output_type": "execute_result"
    }
   ],
   "source": [
    "# Show the embeddings\n",
    "print(embeddings.shape)\n",
    "embeddings"
   ]
  },
  {
   "cell_type": "markdown",
   "id": "0e74b2cd-1218-498a-b762-93cab9521ca4",
   "metadata": {},
   "source": [
    "### Diffusion noise schedule\n",
    "\n",
    "In the paper, they use a square root noise schedule defined by:\n",
    "$$\\bar{\\alpha}_t = 1 - \\sqrt{t/T + s}$$\n",
    "where $s$ is a small constant that corresponds to the starting noise level, chosen to be 1e-4 and $T$ is the total number of noise steps, set to 2000.\n",
    "\n",
    "The noise level at time step t, $\\sigma_t$ is then calculated as $\\sigma_t=\\sqrt{1-\\bar{\\alpha}_t}$."
   ]
  },
  {
   "cell_type": "code",
   "execution_count": 220,
   "id": "1e1b6423-bd84-49ff-a843-65c5a537dae5",
   "metadata": {},
   "outputs": [],
   "source": [
    "def diffusion_noise_schedule(t, T=2000, s=1e-4):\n",
    "    alpha = 1 - np.sqrt(t / T + s)\n",
    "    return np.sqrt(1 - alpha)"
   ]
  },
  {
   "cell_type": "code",
   "execution_count": 221,
   "id": "a741306c-0877-4a8e-bde6-6625f9da5aad",
   "metadata": {},
   "outputs": [
    {
     "data": {
      "text/plain": [
       "Text(0.5, 1.0, 'Diffusion noise schedule')"
      ]
     },
     "execution_count": 221,
     "metadata": {},
     "output_type": "execute_result"
    },
    {
     "data": {
      "image/png": "[encoded data removed]",
      "text/plain": [
       "<Figure size 640x480 with 1 Axes>"
      ]
     },
     "metadata": {},
     "output_type": "display_data"
    }
   ],
   "source": [
    "betas = diffusion_noise_schedule(np.arange(2000))\n",
    "plt.plot(betas)\n",
    "plt.title(\"Diffusion noise schedule\")"
   ]
  },
  {
   "cell_type": "markdown",
   "id": "81be8356-034b-4feb-8393-eef40fec0b02",
   "metadata": {},
   "source": [
    "### Markov transition\n",
    "\n",
    "From the paper:\n",
    "> Our approach adds a Markov transition from discrete words $w$ to $x_0$ in the forward process, parametrized by $q_0(x_0|w) = \\mathcal{N}(\\textrm{EMB}(w), \\sigma_0 I)$"
   ]
  },
  {
   "cell_type": "code",
   "execution_count": 97,
   "id": "d2c8df44-6be5-4e97-8aab-c79764b92534",
   "metadata": {},
   "outputs": [],
   "source": [
    "x_0 = embeddings[0, 0, :]"
   ]
  },
  {
   "cell_type": "code",
   "execution_count": 98,
   "id": "b35de988-d963-47ea-a57a-941a8d6af420",
   "metadata": {},
   "outputs": [],
   "source": [
    "sigma = diffusion_noise_schedule(0)\n",
    "q_0 = torch.normal(mean=x_0, std=sigma)"
   ]
  },
  {
   "cell_type": "code",
   "execution_count": 192,
   "id": "8f2616cc-e5ba-4afd-b15c-b08de3040c7a",
   "metadata": {},
   "outputs": [
    {
     "data": {
      "text/plain": [
       "(array([  1.,   0.,   0.,   0.,   0.,   0.,   0.,   0.,   0.,   0.,   1.,\n",
       "          2.,   0.,   2.,   1.,   0.,   2.,   4.,  64., 345., 299.,  41.,\n",
       "          4.,   0.,   0.,   1.,   0.,   0.,   0.,   1.]),\n",
       " array([-7.85179186, -7.45616102, -7.06053019, -6.66489935, -6.26926851,\n",
       "        -5.8736372 , -5.47800636, -5.08237553, -4.68674469, -4.29111385,\n",
       "        -3.89548302, -3.49985218, -3.10422134, -2.70859027, -2.31295943,\n",
       "        -1.9173286 , -1.52169776, -1.1260668 , -0.73043597, -0.33480507,\n",
       "         0.06082582,  0.45645672,  0.85208762,  1.24771845,  1.64334941,\n",
       "         2.03898025,  2.43461108,  2.83024192,  3.22587299,  3.62150383,\n",
       "         4.01713467]),\n",
       " <BarContainer object of 30 artists>)"
      ]
     },
     "execution_count": 192,
     "metadata": {},
     "output_type": "execute_result"
    },
    {
     "data": {
      "image/png": "[encoded data removed]",
      "text/plain": [
       "<Figure size 640x480 with 1 Axes>"
      ]
     },
     "metadata": {},
     "output_type": "display_data"
    }
   ],
   "source": [
    "plt.hist(x_0.detach().numpy(), bins=30)"
   ]
  },
  {
   "cell_type": "code",
   "execution_count": 190,
   "id": "9232efe7-3256-4220-b20c-053136aa4af2",
   "metadata": {},
   "outputs": [
    {
     "data": {
      "text/plain": [
       "(array([  1.,   0.,   0.,   0.,   0.,   0.,   0.,   0.,   0.,   0.,   1.,\n",
       "          2.,   0.,   1.,   2.,   0.,   0.,   8.,  52., 327., 301.,  68.,\n",
       "          3.,   0.,   0.,   1.,   0.,   0.,   0.,   1.]),\n",
       " array([-7.93654871, -7.53872013, -7.14089155, -6.74306345, -6.34523487,\n",
       "        -5.94740629, -5.54957771, -5.15174961, -4.75392103, -4.35609245,\n",
       "        -3.95826411, -3.56043553, -3.16260719, -2.76477861, -2.36695027,\n",
       "        -1.96912169, -1.57129323, -1.17346478, -0.77563632, -0.37780783,\n",
       "         0.02002064,  0.41784912,  0.81567758,  1.2135061 ,  1.61133456,\n",
       "         2.0091629 ,  2.40699148,  2.80481982,  3.2026484 ,  3.60047674,\n",
       "         3.99830532]),\n",
       " <BarContainer object of 30 artists>)"
      ]
     },
     "execution_count": 190,
     "metadata": {},
     "output_type": "execute_result"
    },
    {
     "data": {
      "image/png": "[encoded data removed]",
      "text/plain": [
       "<Figure size 640x480 with 1 Axes>"
      ]
     },
     "metadata": {},
     "output_type": "display_data"
    }
   ],
   "source": [
    "plt.hist(q_0.detach().numpy(), bins=30)"
   ]
  },
  {
   "cell_type": "code",
   "execution_count": 100,
   "id": "bb175eac-2d8f-48fa-aaf4-1b97deff0741",
   "metadata": {},
   "outputs": [
    {
     "data": {
      "text/plain": [
       "(array([ 1.,  0.,  0.,  2.,  3.,  4., 11., 10., 16., 18., 31., 57., 65.,\n",
       "        52., 70., 78., 89., 66., 61., 38., 34., 22., 24.,  7.,  4.,  0.,\n",
       "         1.,  1.,  2.,  1.]),\n",
       " array([-0.3691555 , -0.34487188, -0.32058823, -0.29630461, -0.272021  ,\n",
       "        -0.24773736, -0.22345373, -0.19917011, -0.17488648, -0.15060286,\n",
       "        -0.12631923, -0.1020356 , -0.07775198, -0.05346835, -0.02918472,\n",
       "        -0.0049011 ,  0.01938253,  0.04366616,  0.06794979,  0.09223341,\n",
       "         0.11651704,  0.14080067,  0.16508429,  0.18936792,  0.21365154,\n",
       "         0.23793517,  0.2622188 ,  0.28650242,  0.31078604,  0.33506969,\n",
       "         0.3593533 ]),\n",
       " <BarContainer object of 30 artists>)"
      ]
     },
     "execution_count": 100,
     "metadata": {},
     "output_type": "execute_result"
    },
    {
     "data": {
      "image/png": "[encoded data removed]",
      "text/plain": [
       "<Figure size 640x480 with 1 Axes>"
      ]
     },
     "metadata": {},
     "output_type": "display_data"
    }
   ],
   "source": [
    "plt.hist(x_0.detach().numpy() - q_0.detach().numpy(), bins=30)"
   ]
  },
  {
   "cell_type": "markdown",
   "id": "96c13e20-c1f7-431e-8621-d4293884bec3",
   "metadata": {},
   "source": [
    "### Rounding step\n",
    "\n",
    "In the reverse process, they added a trainable rounding step, parametrized by:\n",
    "$$p_\\theta(w | x_0) = \\prod_{i=1}^n p_\\theta(w_i | x_i)$$\n",
    "where $p_\\theta(w_i|x_i)$ is a softmax distribution."
   ]
  },
  {
   "cell_type": "code",
   "execution_count": 139,
   "id": "9653fd27-f11d-425e-a42a-4dcf15d2c84b",
   "metadata": {},
   "outputs": [
    {
     "data": {
      "text/plain": [
       "Parameter containing:\n",
       "tensor([[-0.0102, -0.0615, -0.0265,  ..., -0.0199, -0.0372, -0.0098],\n",
       "        [-0.0117, -0.0600, -0.0323,  ..., -0.0168, -0.0401, -0.0107],\n",
       "        [-0.0198, -0.0627, -0.0326,  ..., -0.0165, -0.0420, -0.0032],\n",
       "        ...,\n",
       "        [-0.0218, -0.0556, -0.0135,  ..., -0.0043, -0.0151, -0.0249],\n",
       "        [-0.0462, -0.0565, -0.0019,  ...,  0.0157, -0.0139, -0.0095],\n",
       "        [ 0.0015, -0.0821, -0.0160,  ..., -0.0081, -0.0475,  0.0753]],\n",
       "       requires_grad=True)"
      ]
     },
     "execution_count": 139,
     "metadata": {},
     "output_type": "execute_result"
    }
   ],
   "source": [
    "# Word embeddings matrix - we do knn on this:\n",
    "embeddings = model.embeddings.word_embeddings.weight\n",
    "embeddings"
   ]
  },
  {
   "cell_type": "code",
   "execution_count": 140,
   "id": "bec2d0d9-5a44-4773-9a18-9a138f0874fe",
   "metadata": {},
   "outputs": [
    {
     "data": {
      "text/plain": [
       "torch.Size([30522, 768])"
      ]
     },
     "execution_count": 140,
     "metadata": {},
     "output_type": "execute_result"
    }
   ],
   "source": [
    "embeddings.shape"
   ]
  },
  {
   "cell_type": "markdown",
   "id": "1d5e1886-34be-4aa1-b02f-1e59df9cca53",
   "metadata": {},
   "source": [
    "### Softmax\n",
    "\n",
    "We compute a softmax over the similarity between `x_0` and the word embeddings to get a probability over the tokens:"
   ]
  },
  {
   "cell_type": "code",
   "execution_count": 171,
   "id": "6cffbe65-cbb2-4530-9b41-4a67f880901d",
   "metadata": {},
   "outputs": [
    {
     "data": {
      "text/plain": [
       "(torch.Size([768]), torch.Size([30522, 768]))"
      ]
     },
     "execution_count": 171,
     "metadata": {},
     "output_type": "execute_result"
    }
   ],
   "source": [
    "x_0.shape, embeddings.shape"
   ]
  },
  {
   "cell_type": "code",
   "execution_count": 186,
   "id": "9334d567-936c-4e67-9639-34acf3cd26c5",
   "metadata": {},
   "outputs": [
    {
     "data": {
      "text/plain": [
       "tensor([[3.2664e-05, 3.2669e-05, 3.2711e-05,  ..., 3.1543e-05, 3.2007e-05,\n",
       "         3.4675e-05]], grad_fn=<SoftmaxBackward0>)"
      ]
     },
     "execution_count": 186,
     "metadata": {},
     "output_type": "execute_result"
    }
   ],
   "source": [
    "# Compute l2 similarity\n",
    "l2_dist = torch.cdist(x_0.reshape(1, x_0.shape[0]), embeddings)\n",
    "\n",
    "# Convert to probabilities\n",
    "token_prob = torch.nn.Softmax(dim=1)(l2_dist)\n",
    "token_prob"
   ]
  },
  {
   "cell_type": "markdown",
   "id": "6b0085ea-47bf-42b1-8035-b9163c2baa82",
   "metadata": {},
   "source": [
    "We use K-nearest neighbours to find the closest token to the given embedding $x_0$ as shown below:"
   ]
  },
  {
   "cell_type": "code",
   "execution_count": 166,
   "id": "149f9131-ce39-4a62-9eba-c3c1426310a7",
   "metadata": {},
   "outputs": [
    {
     "name": "stdout",
     "output_type": "stream",
     "text": [
      "Nearest tokens are: [101, 3023, 2007] - ['[CLS]', 'coast', 'with']\n"
     ]
    }
   ],
   "source": [
    "dist = torch.norm(embeddings - x_0, dim=1, p=2)\n",
    "values, indices = dist.topk(3, largest=False)\n",
    "knn_tokens = [tokenizer.ids_to_tokens[int(ix)] for ix in indices]\n",
    "\n",
    "print(f\"Nearest tokens are: {indices.tolist()} - {knn_tokens}\")"
   ]
  },
  {
   "cell_type": "markdown",
   "id": "94f765a2-4dc3-44f7-9fe8-ed22ede6383c",
   "metadata": {},
   "source": [
    "### Training objective\n",
    "\n",
    "The training objective used in the paper is given below:\n",
    "\n",
    "$$\\mathcal{L}_{\\textrm{simple}}^{\\textrm{e2e}}(w) = \\mathbb{E}_{q_\\phi(x_{0:T}|w)}\\left[\\mathcal{L}_{\\textrm{simple}}(x_0) + \\|\\textrm{EMB}(w)-\\mu_\\theta(x_1,1)\\|^2 - \\log p_\\theta(w|x_0) \\right]$$\n",
    "\n",
    "where $\\mathcal{L}_{\\textrm{simple}}$ is given by:\n",
    "$$\\mathcal{L}_{\\textrm{simple}} = \\sum_{t=1}^T \\mathbb{E}_{q(x_t|x_0)} \\|\\mu_\\theta(x_t,t)\\ - \\hat{\\mu}(x_t,x_0)\\|$$\n"
   ]
  },
  {
   "cell_type": "code",
   "execution_count": null,
   "id": "03f271f1-6c05-4c60-a185-e40afbb23719",
   "metadata": {},
   "outputs": [],
   "source": []
  },
  {
   "cell_type": "code",
   "execution_count": null,
   "id": "58a54684-6869-40f2-adad-853c963c2e8a",
   "metadata": {},
   "outputs": [],
   "source": []
  },
  {
   "cell_type": "code",
   "execution_count": null,
   "id": "7133bcc9-fb50-4f29-a568-ed7d24778946",
   "metadata": {},
   "outputs": [],
   "source": []
  }
 ],
 "metadata": {
  "kernelspec": {
   "display_name": "Python 3",
   "language": "python",
   "name": "python3"
  },
  "language_info": {
   "codemirror_mode": {
    "name": "ipython",
    "version": 3
   },
   "file_extension": ".py",
   "mimetype": "text/x-python",
   "name": "python",
   "nbconvert_exporter": "python",
   "pygments_lexer": "ipython3",
   "version": "3.9.5"
  }
 },
 "nbformat": 4,
 "nbformat_minor": 5
}
