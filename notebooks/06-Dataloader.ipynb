{
 "cells": [
  {
   "cell_type": "markdown",
   "id": "58ed85df-b0b6-43bd-b04e-8c449619362d",
   "metadata": {},
   "source": [
    "# Creating a text dataloader\n",
    "\n",
    "In this notebook we'll write a dataloader for the Diffusion LM model. All it has to do is take an iterable containing the text and return batches of padded token sequences. Nothing too complicated, besides requiring a tokenizer in advance."
   ]
  },
  {
   "cell_type": "code",
   "execution_count": 1,
   "id": "99401043-eae3-4308-b9c2-ebc24e57908b",
   "metadata": {},
   "outputs": [],
   "source": [
    "from torch.utils.data import Dataset, DataLoader"
   ]
  },
  {
   "cell_type": "code",
   "execution_count": 2,
   "id": "862f3835-8100-4d93-b0e5-b8406da28b09",
   "metadata": {},
   "outputs": [
    {
     "name": "stderr",
     "output_type": "stream",
     "text": [
      "Found cached dataset e2e_nlg (/home/kakapo/.cache/huggingface/datasets/e2e_nlg/default/0.0.0/bfeceb720929c2705bd227d1cfe5eaaab102a0bdac10dad618dac1e00c737430)\n"
     ]
    },
    {
     "data": {
      "application/vnd.jupyter.widget-view+json": {
       "model_id": "182dd096bf0e4f368a8f86c44690583a",
       "version_major": 2,
       "version_minor": 0
      },
      "text/plain": [
       "  0%|          | 0/3 [00:00<?, ?it/s]"
      ]
     },
     "metadata": {},
     "output_type": "display_data"
    }
   ],
   "source": [
    "from datasets import load_dataset\n",
    "\n",
    "e2e_dataset = load_dataset(\"e2e_nlg\")"
   ]
  },
  {
   "cell_type": "code",
   "execution_count": null,
   "id": "98773845-3237-42c8-9a50-305d74c94b4d",
   "metadata": {},
   "outputs": [],
   "source": [
    "def pad_sequences(texts):\n",
    "    "
   ]
  },
  {
   "cell_type": "code",
   "execution_count": 4,
   "id": "874a1658-8195-4ec5-9b75-565a5e821acd",
   "metadata": {},
   "outputs": [],
   "source": [
    "e2e_dataloader = DataLoader(e2e_dataset['train'], batch_size=64, shuffle=True, collate_fn=collate_fn)"
   ]
  },
  {
   "cell_type": "code",
   "execution_count": 11,
   "id": "8c81b89c-268d-494b-bfdb-752d6d19b3a3",
   "metadata": {},
   "outputs": [
    {
     "name": "stdout",
     "output_type": "stream",
     "text": [
      "['Wildwood with good food French its a restaurant', 'Giraffe is a kids friendly Japanese pub restaurant riverside located', 'A children friendly, Indian coffee shop in the high price range, Fitzbillies, is located in the city centre. It has a customer rating of 1 out of 5.', 'The Rice Boat is a low cost, family friendly coffee shop situated by the river.', 'There is a moderately priced Indian restaurant, The Waterman, which is kids-friendly and has a customer rating of 3 out of 5, located in the city centre.', 'The Green Man is a French non-child friendly restaurant costing more than £30  located near All Bar One in the city center', 'An expensive venue located in riverside, The Eagle received an average customer rating.', 'Midsummer House is a highly rated French restaurant near All Bar One. Prices are in the £20-25 range.', 'Alimentum is an Indian family friendly restaurant that is cheap and near riverside.', 'A more luxurious venue in the riverside area with a higher price range is Blue Spice.', 'Come to The Plough, a fast food pub situated near Café Rouge. Not family-friendly and meals cost under £20', 'Aromi a Japanese coffee shop in the riverside area that is children friendly with high customer rating', 'Green Man is a high price range children friendly venue on the riverside.', 'The Mill is a Indian coffee shop. its price range is less than £20 and located in the city centre near The Sorrento.', 'Loch Fyne is a child-friendly restaurant that sells Japanese food for more than £30.', 'A children friendly restaurant called The Plough is near Express by Holiday Inn.', 'The Golden Curry is a French restaurant near Café Rouge in Riverside. this child friendly restaurant rates low in customer satisfaction.', 'Green Man, a kid-friendly restaurant near All Bar One, provides a £20-25 English meal.', 'Cotto is a coffee shop located at the city centre near The Portland Arms. It has a high customer rating and they serve French food for a good price range of about £20-25.', 'Fitzbillies is an averagely rated adults only coffee shop offering fast food at mid-range prices, located in Luton.', 'Located in the riverside area The Waterman has been rated average in customer ratings it serves English food in the higher price bracket.', 'Browns Cambridge is a low customer rate English restaurant with a price range of less than £20.', 'Giraffe is a pub serving Italian food. It is family-Friendly and located riverside.', 'Cocum is a family friendly pub that has a price range less than £20 and has a low customer rating', 'Situated in the city centre near All Bar One, Green Man offers Japanese food priced at less than £20. The restaurant is not family-friendly.', 'The Vaults, is a kids friendly French themed place. With a price range of £20-25.', 'Located right in the city centre, the Fitzbillies coffee shop offers Indian cuisine that is worth 1 out of 5 stars. While highly priced it is very children friendly.', 'The Golden Curry is a moderate price range  restaurant  near The Bakers.', 'The Eagle is an amazing low-cost, family friendly coffee shop that serves food fast. It is located near the Burger King by the river.', 'Within the city centre there is a coffee shop called Aromi, which serves Indian food. They have low customer ratings and are not family friendly.', \"The Phoenix is a Chinese restaurant located in the city center. It's very reasonably priced as well.\", 'Fitzbillies is near Express by Holiday Inn and has high ratings for good prices.', 'at our restaurant are ratings are very high, and we only use the finest food around, we have a take away service of around 3 miles, we very much hope to see you at our restaurant very soon. hello and welcome we would like to tell you about Loch Fyne it is a restaurant we offer very nice English food. at the moment we are not family-friendly.', 'Strada, a restaurant offering Italian cuisine, is located near the Rainbow Vegetarian Café. It has a low rating of only 1 out of 5, but the price range is moderate and is kid-friendly.', 'Blue Spice is a restaurant that provides French food in the moderate price range located in the city centre.', 'The Phoenix is a 3 star high priced restaurant  in City Centre.', \"At riverside there's a family friendly restaurant called The Rice Boat. It serves pretty bad Indian food though.\", 'The Dumpling Tree is a Japanese restaurant with is priced at £20-25.', 'The Waterman pub located in the riverside area. Serves Fast food with a high customer rating.', 'Cotto is an Italian family friendly restaurant with a low customer rating near Ranch.', 'Loch Fyne is  a restaurant providing moderately-priced, English style food and a child friendly experience.', 'The Wrestlers Is a Indian restaurant with a moderate price range it is not kids friendly and has a customer rating of 1 out of 5', 'The Rice Boat is a five-star restaurant in the centre of the city.  It is great for families.', 'The Rice Boat is a place that does Japanese food in the £20 price range with average customer ratings that is not child friendly in the city centre near the Express by Holiday Inn', 'Strada is a Japanese pub, which is located near Yippee Noodle Bar. However, it has low customer rating.', 'Loch Fyne is a kid friendly restaurant serving Japanese food.', \"There is a Chinese restaurant called The Rice Boat which has high customer rating and it's price range is more than £30. This restaurant is children friendly and it is located in the city center which is near Express by Holiday Inn.\", 'The Golden Curry  is a good family and friend Italian food with a low customer rating', 'Taste of Cambridge is a child friendly Japanese coffee shop that is near the Crowne Plaza Hotel.', 'The Waterman has a price range of £20-25 and is kids friendly.', 'Clowns is a pub near the riverside with prices between 20-25 £, rated 3 out of 5.', 'There is a moderately priced restaurant that serves fast food in the city centre called Browns Cambridge.', 'The Rainbow Vegetarian Café called Strada had Italian food that was ranged 20-25. The kids were not friendly and rated it high', 'A French pub called Zizzi is family friendly and rated 5 out of 5', 'The Punter is a restaurant that offers Italian cuisine at a fair price. Prices are usually under twenty pounds.', 'There is a cheap restaurant called The Golden Curry located near The Bakers that is kid friendly.', 'The Cambridge Blue is a Fast food restaurant that customers rated a 3 out of 5.', 'In the city centre near Express by Holiday Inn is a fast food restaurant that has a moderate price and is kid friendly called The Rice Boat. It has a customer rating of 3 out of 5.', 'Wildwood is a Japanese coffee shop with a customer rating of 5 out of 5 near Ranch and is cheap.', 'Zizzi is a highly rated pub serving Italian food. It is not family-friendly.', 'There is a cheap restaurant called Travellers Rest Beefeater which is family friendly.', 'Although not family friendly, The Golden Curry has an outstanding rating of 5 out of 5. It serves up some delicious Indian food. It is located in the city centre near Café Rouge.', 'City centre has a pub called Clowns.  The prices are mid-range and it has a 3 out of 5 rating.', 'Near Crowne Plaza Hotel in the riverside area is a family friendly coffee shop serving Fast food with a customer rating of average named Browns Cambridge.']\n"
     ]
    }
   ],
   "source": [
    "for batch in e2e_dataloader:\n",
    "    text = batch['human_reference']\n",
    "    \n",
    "    print(text)\n",
    "    break"
   ]
  }
 ],
 "metadata": {
  "kernelspec": {
   "display_name": "Python 3",
   "language": "python",
   "name": "python3"
  },
  "language_info": {
   "codemirror_mode": {
    "name": "ipython",
    "version": 3
   },
   "file_extension": ".py",
   "mimetype": "text/x-python",
   "name": "python",
   "nbconvert_exporter": "python",
   "pygments_lexer": "ipython3",
   "version": "3.9.5"
  }
 },
 "nbformat": 4,
 "nbformat_minor": 5
}
